{
 "cells": [
  {
   "cell_type": "code",
   "execution_count": 47,
   "metadata": {},
   "outputs": [],
   "source": [
    "from keras.models import Sequential\n",
    "from keras.layers import Dense\n",
    "from keras.wrappers.scikit_learn import KerasClassifier\n",
    "from sklearn.model_selection import GridSearchCV\n",
    "import numpy\n",
    "seed=7\n",
    "numpy.random.seed(seed)"
   ]
  },
  {
   "cell_type": "code",
   "execution_count": 48,
   "metadata": {},
   "outputs": [],
   "source": [
    "def create_model(optimizer='rmsprop', init='glorot_uniform'):\n",
    "    model = Sequential()\n",
    "    model.add(Dense(12, input_dim=8, kernel_initializer=init, activation='relu'))\n",
    "    model.add(Dense(8, kernel_initializer=init, activation='relu'))\n",
    "    model.add(Dense(1, kernel_initializer=init, activation='sigmoid'))\n",
    "    model.compile(loss='binary_crossentropy', optimizer=optimizer, metrics=['accuracy'])\n",
    "    return model"
   ]
  },
  {
   "cell_type": "code",
   "execution_count": 49,
   "metadata": {},
   "outputs": [],
   "source": [
    "dataset = numpy.loadtxt(\"pima-indians-diabetes.csv\", delimiter=',')\n",
    "x = dataset[:,0:8]\n",
    "y = dataset[:,8]"
   ]
  },
  {
   "cell_type": "code",
   "execution_count": 52,
   "metadata": {},
   "outputs": [],
   "source": [
    "model = KerasClassifier(build_fn=create_model, verbose=0)\n",
    "optimizers = ['rmsprop', 'adam']\n",
    "init = ['glorot_uniform', 'normal', 'uniform']\n",
    "nb_epochs = numpy.array([100,150,500])\n",
    "batches = numpy.array([5, 10, 20, 30])\n",
    "param_grid = dict(optimizer=optimizers, epochs=nb_epochs, batch_size=batches, init=init)\n",
    "grid = GridSearchCV(estimator=model, param_grid=param_grid)\n",
    "grid_result = grid.fit(x,y)"
   ]
  },
  {
   "cell_type": "code",
   "execution_count": 53,
   "metadata": {},
   "outputs": [
    {
     "name": "stdout",
     "output_type": "stream",
     "text": [
      "Best : 0.759115 using {'batch_size': 5, 'epochs': 150, 'init': 'uniform', 'optimizer': 'adam'}\n",
      "0.6966145833333334 (0.0048719497223619025) with : {'batch_size': 5, 'epochs': 100, 'init': 'glorot_uniform', 'optimizer': 'rmsprop'}\n",
      "0.6848958333333334 (0.02240188871625684) with : {'batch_size': 5, 'epochs': 100, 'init': 'glorot_uniform', 'optimizer': 'adam'}\n",
      "0.7213541666666666 (0.027125868041666223) with : {'batch_size': 5, 'epochs': 100, 'init': 'normal', 'optimizer': 'rmsprop'}\n",
      "0.7486979166666666 (0.036966326996297885) with : {'batch_size': 5, 'epochs': 100, 'init': 'normal', 'optimizer': 'adam'}\n",
      "0.7135416666666666 (0.012075024082676697) with : {'batch_size': 5, 'epochs': 100, 'init': 'uniform', 'optimizer': 'rmsprop'}\n",
      "0.72265625 (0.01149968862803105) with : {'batch_size': 5, 'epochs': 100, 'init': 'uniform', 'optimizer': 'adam'}\n",
      "0.6276041666666666 (0.1125078363397289) with : {'batch_size': 5, 'epochs': 150, 'init': 'glorot_uniform', 'optimizer': 'rmsprop'}\n",
      "0.7018229166666666 (0.012889967365379774) with : {'batch_size': 5, 'epochs': 150, 'init': 'glorot_uniform', 'optimizer': 'adam'}\n",
      "0.7486979166666666 (0.028940248399600087) with : {'batch_size': 5, 'epochs': 150, 'init': 'normal', 'optimizer': 'rmsprop'}\n",
      "0.7578125 (0.02870495792324037) with : {'batch_size': 5, 'epochs': 150, 'init': 'normal', 'optimizer': 'adam'}\n",
      "0.69921875 (0.026106689655941956) with : {'batch_size': 5, 'epochs': 150, 'init': 'uniform', 'optimizer': 'rmsprop'}\n",
      "0.7591145833333334 (0.01573313277811793) with : {'batch_size': 5, 'epochs': 150, 'init': 'uniform', 'optimizer': 'adam'}\n",
      "0.7213541666666666 (0.012889967365379774) with : {'batch_size': 5, 'epochs': 500, 'init': 'glorot_uniform', 'optimizer': 'rmsprop'}\n",
      "0.73828125 (0.014615849167085708) with : {'batch_size': 5, 'epochs': 500, 'init': 'glorot_uniform', 'optimizer': 'adam'}\n",
      "0.7356770833333334 (0.0018414239093399675) with : {'batch_size': 5, 'epochs': 500, 'init': 'normal', 'optimizer': 'rmsprop'}\n",
      "0.74609375 (0.03236927837150014) with : {'batch_size': 5, 'epochs': 500, 'init': 'normal', 'optimizer': 'adam'}\n",
      "0.7330729166666666 (0.009743899444723805) with : {'batch_size': 5, 'epochs': 500, 'init': 'uniform', 'optimizer': 'rmsprop'}\n",
      "0.7317708333333334 (0.036966326996297885) with : {'batch_size': 5, 'epochs': 500, 'init': 'uniform', 'optimizer': 'adam'}\n",
      "0.7044270833333334 (0.029634913220679796) with : {'batch_size': 10, 'epochs': 100, 'init': 'glorot_uniform', 'optimizer': 'rmsprop'}\n",
      "0.7265625 (0.026106689655941956) with : {'batch_size': 10, 'epochs': 100, 'init': 'glorot_uniform', 'optimizer': 'adam'}\n",
      "0.7317708333333334 (0.03194751079787838) with : {'batch_size': 10, 'epochs': 100, 'init': 'normal', 'optimizer': 'rmsprop'}\n",
      "0.7421875 (0.01940060472103039) with : {'batch_size': 10, 'epochs': 100, 'init': 'normal', 'optimizer': 'adam'}\n",
      "0.71875 (0.016876928902103804) with : {'batch_size': 10, 'epochs': 100, 'init': 'uniform', 'optimizer': 'rmsprop'}\n",
      "0.7096354166666666 (0.012889967365379774) with : {'batch_size': 10, 'epochs': 100, 'init': 'uniform', 'optimizer': 'adam'}\n",
      "0.6796875 (0.03360283307438526) with : {'batch_size': 10, 'epochs': 150, 'init': 'glorot_uniform', 'optimizer': 'rmsprop'}\n",
      "0.7174479166666666 (0.02240188871625684) with : {'batch_size': 10, 'epochs': 150, 'init': 'glorot_uniform', 'optimizer': 'adam'}\n",
      "0.7330729166666666 (0.03410364805653332) with : {'batch_size': 10, 'epochs': 150, 'init': 'normal', 'optimizer': 'rmsprop'}\n",
      "0.7317708333333334 (0.020255663002739642) with : {'batch_size': 10, 'epochs': 150, 'init': 'normal', 'optimizer': 'adam'}\n",
      "0.7447916666666666 (0.03380404944204992) with : {'batch_size': 10, 'epochs': 150, 'init': 'uniform', 'optimizer': 'rmsprop'}\n",
      "0.7291666666666666 (0.024150048165353395) with : {'batch_size': 10, 'epochs': 150, 'init': 'uniform', 'optimizer': 'adam'}\n",
      "0.6888020833333334 (0.0048719497223619025) with : {'batch_size': 10, 'epochs': 500, 'init': 'glorot_uniform', 'optimizer': 'rmsprop'}\n",
      "0.7200520833333334 (0.014381980491129246) with : {'batch_size': 10, 'epochs': 500, 'init': 'glorot_uniform', 'optimizer': 'adam'}\n",
      "0.7252604166666666 (0.029634913220679796) with : {'batch_size': 10, 'epochs': 500, 'init': 'normal', 'optimizer': 'rmsprop'}\n",
      "0.7434895833333334 (0.030313663351101083) with : {'batch_size': 10, 'epochs': 500, 'init': 'normal', 'optimizer': 'adam'}\n",
      "0.7408854166666666 (0.012889967365379774) with : {'batch_size': 10, 'epochs': 500, 'init': 'uniform', 'optimizer': 'rmsprop'}\n",
      "0.74609375 (0.024079742199097563) with : {'batch_size': 10, 'epochs': 500, 'init': 'uniform', 'optimizer': 'adam'}\n",
      "0.6927083333333334 (0.01813592223591682) with : {'batch_size': 20, 'epochs': 100, 'init': 'glorot_uniform', 'optimizer': 'rmsprop'}\n",
      "0.6822916666666666 (0.016366933710906945) with : {'batch_size': 20, 'epochs': 100, 'init': 'glorot_uniform', 'optimizer': 'adam'}\n",
      "0.7044270833333334 (0.025779934730759544) with : {'batch_size': 20, 'epochs': 100, 'init': 'normal', 'optimizer': 'rmsprop'}\n",
      "0.7109375 (0.008438464451051902) with : {'batch_size': 20, 'epochs': 100, 'init': 'normal', 'optimizer': 'adam'}\n",
      "0.7161458333333334 (0.008026580733032522) with : {'batch_size': 20, 'epochs': 100, 'init': 'uniform', 'optimizer': 'rmsprop'}\n",
      "0.7239583333333334 (0.0048719497223619025) with : {'batch_size': 20, 'epochs': 100, 'init': 'uniform', 'optimizer': 'adam'}\n",
      "0.6848958333333334 (0.012889967365379774) with : {'batch_size': 20, 'epochs': 150, 'init': 'glorot_uniform', 'optimizer': 'rmsprop'}\n",
      "0.69921875 (0.01390244564066577) with : {'batch_size': 20, 'epochs': 150, 'init': 'glorot_uniform', 'optimizer': 'adam'}\n",
      "0.7265625 (0.016876928902103804) with : {'batch_size': 20, 'epochs': 150, 'init': 'normal', 'optimizer': 'rmsprop'}\n",
      "0.69921875 (0.01594719884624465) with : {'batch_size': 20, 'epochs': 150, 'init': 'normal', 'optimizer': 'adam'}\n",
      "0.7252604166666666 (0.01813592223591682) with : {'batch_size': 20, 'epochs': 150, 'init': 'uniform', 'optimizer': 'rmsprop'}\n",
      "0.7317708333333334 (0.01573313277811793) with : {'batch_size': 20, 'epochs': 150, 'init': 'uniform', 'optimizer': 'adam'}\n",
      "0.7265625 (0.036782413780795664) with : {'batch_size': 20, 'epochs': 500, 'init': 'glorot_uniform', 'optimizer': 'rmsprop'}\n",
      "0.7200520833333334 (0.040511326005479284) with : {'batch_size': 20, 'epochs': 500, 'init': 'glorot_uniform', 'optimizer': 'adam'}\n",
      "0.7395833333333334 (0.016366933710906945) with : {'batch_size': 20, 'epochs': 500, 'init': 'normal', 'optimizer': 'rmsprop'}\n",
      "0.7239583333333334 (0.00736569563735987) with : {'batch_size': 20, 'epochs': 500, 'init': 'normal', 'optimizer': 'adam'}\n",
      "0.7513020833333334 (0.029634913220679796) with : {'batch_size': 20, 'epochs': 500, 'init': 'uniform', 'optimizer': 'rmsprop'}\n",
      "0.7591145833333334 (0.016366933710906945) with : {'batch_size': 20, 'epochs': 500, 'init': 'uniform', 'optimizer': 'adam'}\n",
      "0.7005208333333334 (0.012889967365379772) with : {'batch_size': 30, 'epochs': 100, 'init': 'glorot_uniform', 'optimizer': 'rmsprop'}\n",
      "0.64453125 (0.036782413780795664) with : {'batch_size': 30, 'epochs': 100, 'init': 'glorot_uniform', 'optimizer': 'adam'}\n",
      "0.6666666666666666 (0.01473139127471974) with : {'batch_size': 30, 'epochs': 100, 'init': 'normal', 'optimizer': 'rmsprop'}\n",
      "0.7122395833333334 (0.01813592223591682) with : {'batch_size': 30, 'epochs': 100, 'init': 'normal', 'optimizer': 'adam'}\n",
      "0.6848958333333334 (0.009207119546699838) with : {'batch_size': 30, 'epochs': 100, 'init': 'uniform', 'optimizer': 'rmsprop'}\n",
      "0.7044270833333334 (0.01573313277811793) with : {'batch_size': 30, 'epochs': 100, 'init': 'uniform', 'optimizer': 'adam'}\n",
      "0.6705729166666666 (0.027125868041666223) with : {'batch_size': 30, 'epochs': 150, 'init': 'glorot_uniform', 'optimizer': 'rmsprop'}\n",
      "0.6940104166666666 (0.010252614419286212) with : {'batch_size': 30, 'epochs': 150, 'init': 'glorot_uniform', 'optimizer': 'adam'}\n",
      "0.7057291666666666 (0.023938510821419574) with : {'batch_size': 30, 'epochs': 150, 'init': 'normal', 'optimizer': 'rmsprop'}\n",
      "0.72265625 (0.022326078384742508) with : {'batch_size': 30, 'epochs': 150, 'init': 'normal', 'optimizer': 'adam'}\n",
      "0.6940104166666666 (0.024773824987552668) with : {'batch_size': 30, 'epochs': 150, 'init': 'uniform', 'optimizer': 'rmsprop'}\n",
      "0.7174479166666666 (0.014381980491129247) with : {'batch_size': 30, 'epochs': 150, 'init': 'uniform', 'optimizer': 'adam'}\n",
      "0.7018229166666666 (0.02307297545139238) with : {'batch_size': 30, 'epochs': 500, 'init': 'glorot_uniform', 'optimizer': 'rmsprop'}\n",
      "0.6875 (0.02834836075140266) with : {'batch_size': 30, 'epochs': 500, 'init': 'glorot_uniform', 'optimizer': 'adam'}\n",
      "0.7239583333333334 (0.029634913220679796) with : {'batch_size': 30, 'epochs': 500, 'init': 'normal', 'optimizer': 'rmsprop'}\n",
      "0.75 (0.020914555213813815) with : {'batch_size': 30, 'epochs': 500, 'init': 'normal', 'optimizer': 'adam'}\n",
      "0.7317708333333334 (0.02655739329996242) with : {'batch_size': 30, 'epochs': 500, 'init': 'uniform', 'optimizer': 'rmsprop'}\n",
      "0.7447916666666666 (0.03014540860101621) with : {'batch_size': 30, 'epochs': 500, 'init': 'uniform', 'optimizer': 'adam'}\n"
     ]
    }
   ],
   "source": [
    "print(\"Best : %f using %s\" % (grid_result.best_score_, grid_result.best_params_))\n",
    "for i in range(len(grid.cv_results_['mean_test_score'])):\n",
    "    print(\"%s (%s) with : %r\" % (grid.cv_results_['mean_test_score'][i], grid.cv_results_['std_test_score'][i], grid.cv_results_['params'][i]))"
   ]
  },
  {
   "cell_type": "code",
   "execution_count": null,
   "metadata": {},
   "outputs": [],
   "source": []
  }
 ],
 "metadata": {
  "kernelspec": {
   "display_name": "Python 3",
   "language": "python",
   "name": "python3"
  },
  "language_info": {
   "codemirror_mode": {
    "name": "ipython",
    "version": 3
   },
   "file_extension": ".py",
   "mimetype": "text/x-python",
   "name": "python",
   "nbconvert_exporter": "python",
   "pygments_lexer": "ipython3",
   "version": "3.7.4"
  }
 },
 "nbformat": 4,
 "nbformat_minor": 2
}
