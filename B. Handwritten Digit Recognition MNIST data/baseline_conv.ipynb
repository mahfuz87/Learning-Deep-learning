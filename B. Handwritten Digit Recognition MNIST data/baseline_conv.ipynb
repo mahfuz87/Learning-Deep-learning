{
 "cells": [
  {
   "cell_type": "code",
   "execution_count": 74,
   "metadata": {},
   "outputs": [],
   "source": [
    "from keras.datasets import mnist\n",
    "from keras.models import Sequential\n",
    "from keras.layers import Dense\n",
    "from keras.layers import Dropout\n",
    "from keras.layers import Flatten\n",
    "from keras.layers.convolutional import Conv2D\n",
    "from keras.layers.convolutional import MaxPooling2D\n",
    "from keras.utils import np_utils\n",
    "import numpy"
   ]
  },
  {
   "cell_type": "code",
   "execution_count": 75,
   "metadata": {},
   "outputs": [],
   "source": [
    "seed = 5\n",
    "numpy.random.seed(seed)"
   ]
  },
  {
   "cell_type": "code",
   "execution_count": 76,
   "metadata": {},
   "outputs": [
    {
     "name": "stdout",
     "output_type": "stream",
     "text": [
      "tf.__version__ is 2.1.0\n",
      "tf.keras.__version__ is: 2.2.4-tf\n"
     ]
    }
   ],
   "source": [
    "'''\n",
    "this part is required to solve\n",
    "AttributeError: module 'tensorflow_core._api.v2.config' has no attribute 'experimental_list_devices'.\n",
    "This error occurs because the experimental_list_devices is deprecated in tf 2.1.\n",
    "'''\n",
    "import tensorflow as tf\n",
    "import keras.backend.tensorflow_backend as tfback\n",
    "print(\"tf.__version__ is\", tf.__version__)\n",
    "print(\"tf.keras.__version__ is:\", tf.keras.__version__)\n",
    "def _get_available_gpus():\n",
    "    \"\"\"Get a list of available gpu devices (formatted as strings).\n",
    "\n",
    "    # Returns\n",
    "        A list of available GPU devices.\n",
    "    \"\"\"\n",
    "    #global _LOCAL_DEVICES\n",
    "    if tfback._LOCAL_DEVICES is None:\n",
    "        devices = tf.config.list_logical_devices()\n",
    "        tfback._LOCAL_DEVICES = [x.name for x in devices]\n",
    "    return [x for x in tfback._LOCAL_DEVICES if 'device:gpu' in x.lower()]\n",
    "\n",
    "tfback._get_available_gpus = _get_available_gpus"
   ]
  },
  {
   "cell_type": "code",
   "execution_count": 77,
   "metadata": {},
   "outputs": [],
   "source": [
    "(x_train, y_train), (x_test, y_test) = mnist.load_data()\n",
    "x_train = x_train.reshape(x_train.shape[0], 1, 28, 28).astype('float32')\n",
    "x_test = x_test.reshape(x_test.shape[0], 1, 28, 28).astype('float32')\n",
    "x_train = x_train/255\n",
    "x_test = x_test/255\n",
    "y_train = np_utils.to_categorical(y_train)\n",
    "y_test = np_utils.to_categorical(y_test)\n",
    "num_classes = y_test.shape[1]"
   ]
  },
  {
   "cell_type": "code",
   "execution_count": 80,
   "metadata": {},
   "outputs": [],
   "source": [
    "def baseline_conv():\n",
    "    model = Sequential()\n",
    "    model.add(Conv2D(32, (5,5), padding='valid', input_shape=(1,28,28), data_format='channels_first', activation='relu'))\n",
    "    model.add(MaxPooling2D(pool_size=(2,2)))\n",
    "    model.add(Dropout(0.2))\n",
    "    model.add(Flatten())\n",
    "    model.add(Dense(128, activation='relu'))\n",
    "    model.add(Dense(num_classes, activation='softmax'))\n",
    "    model.compile(loss='categorical_crossentropy', optimizer='adam', metrics=['accuracy'])\n",
    "    return model"
   ]
  },
  {
   "cell_type": "code",
   "execution_count": 81,
   "metadata": {},
   "outputs": [
    {
     "name": "stdout",
     "output_type": "stream",
     "text": [
      "Train on 60000 samples, validate on 10000 samples\n",
      "Epoch 1/10\n",
      " - 25s - loss: 0.2485 - accuracy: 0.9269 - val_loss: 0.0812 - val_accuracy: 0.9761\n",
      "Epoch 2/10\n",
      " - 31s - loss: 0.0742 - accuracy: 0.9773 - val_loss: 0.0553 - val_accuracy: 0.9809\n",
      "Epoch 3/10\n",
      " - 29s - loss: 0.0505 - accuracy: 0.9847 - val_loss: 0.0437 - val_accuracy: 0.9841\n",
      "Epoch 4/10\n",
      " - 28s - loss: 0.0403 - accuracy: 0.9870 - val_loss: 0.0407 - val_accuracy: 0.9863\n",
      "Epoch 5/10\n",
      " - 28s - loss: 0.0317 - accuracy: 0.9902 - val_loss: 0.0356 - val_accuracy: 0.9883\n",
      "Epoch 6/10\n",
      " - 28s - loss: 0.0266 - accuracy: 0.9918 - val_loss: 0.0352 - val_accuracy: 0.9884\n",
      "Epoch 7/10\n",
      " - 28s - loss: 0.0226 - accuracy: 0.9927 - val_loss: 0.0381 - val_accuracy: 0.9868\n",
      "Epoch 8/10\n",
      " - 29s - loss: 0.0185 - accuracy: 0.9939 - val_loss: 0.0375 - val_accuracy: 0.9881\n",
      "Epoch 9/10\n",
      " - 28s - loss: 0.0155 - accuracy: 0.9949 - val_loss: 0.0332 - val_accuracy: 0.9885\n",
      "Epoch 10/10\n",
      " - 28s - loss: 0.0152 - accuracy: 0.9948 - val_loss: 0.0312 - val_accuracy: 0.9889\n"
     ]
    }
   ],
   "source": [
    "model = baseline_conv()\n",
    "model.fit(x_train, y_train, validation_data=(x_test, y_test), epochs=10, batch_size=200, verbose=2)\n",
    "scores = model.evaluate(x_test, y_test, verbose=0)"
   ]
  },
  {
   "cell_type": "code",
   "execution_count": 83,
   "metadata": {},
   "outputs": [
    {
     "name": "stdout",
     "output_type": "stream",
     "text": [
      "Baseline CNN: 98.89%\n"
     ]
    }
   ],
   "source": [
    "print(\"Baseline CNN: %.2f%%\" %(scores[1]*100))"
   ]
  },
  {
   "cell_type": "code",
   "execution_count": null,
   "metadata": {},
   "outputs": [],
   "source": []
  }
 ],
 "metadata": {
  "kernelspec": {
   "display_name": "Python 3",
   "language": "python",
   "name": "python3"
  },
  "language_info": {
   "codemirror_mode": {
    "name": "ipython",
    "version": 3
   },
   "file_extension": ".py",
   "mimetype": "text/x-python",
   "name": "python",
   "nbconvert_exporter": "python",
   "pygments_lexer": "ipython3",
   "version": "3.7.4"
  }
 },
 "nbformat": 4,
 "nbformat_minor": 2
}
