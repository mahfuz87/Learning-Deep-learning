{
 "cells": [
  {
   "cell_type": "code",
   "execution_count": 11,
   "metadata": {},
   "outputs": [],
   "source": [
    "from keras.datasets import mnist\n",
    "from keras.models import Sequential\n",
    "from keras.layers import Dense\n",
    "from keras.layers import Dropout\n",
    "from keras.utils import np_utils\n",
    "import numpy"
   ]
  },
  {
   "cell_type": "code",
   "execution_count": 12,
   "metadata": {},
   "outputs": [],
   "source": [
    "seed = 5\n",
    "numpy.random.seed(seed)"
   ]
  },
  {
   "cell_type": "code",
   "execution_count": 13,
   "metadata": {},
   "outputs": [],
   "source": [
    "(x_train, y_train), (x_test, y_test) = mnist.load_data()"
   ]
  },
  {
   "cell_type": "code",
   "execution_count": 14,
   "metadata": {},
   "outputs": [],
   "source": [
    "num_pixels = x_train.shape[1] * x_train.shape[2]\n",
    "x_train = x_train.reshape(x_train.shape[0], num_pixels).astype('float')\n",
    "x_test = x_test.reshape(x_test.shape[0], num_pixels).astype('float')\n",
    "x_train = x_train/255\n",
    "x_test = x_test/255\n",
    "y_train = np_utils.to_categorical(y_train)\n",
    "y_test = np_utils.to_categorical(y_test)\n",
    "num_classes = y_test.shape[1]"
   ]
  },
  {
   "cell_type": "code",
   "execution_count": 15,
   "metadata": {},
   "outputs": [],
   "source": [
    "def baseline_model():\n",
    "    model = Sequential()\n",
    "    model.add(Dense(num_pixels, input_dim=num_pixels, kernel_initializer='normal', activation='relu'))\n",
    "    model.add(Dense(num_classes, kernel_initializer='normal', activation='softmax'))\n",
    "    model.compile(loss='categorical_crossentropy', optimizer='adam', metrics=['accuracy'])\n",
    "    return model"
   ]
  },
  {
   "cell_type": "code",
   "execution_count": 16,
   "metadata": {},
   "outputs": [
    {
     "name": "stdout",
     "output_type": "stream",
     "text": [
      "Train on 60000 samples, validate on 10000 samples\n",
      "Epoch 1/10\n",
      " - 4s - loss: 0.2802 - accuracy: 0.9193 - val_loss: 0.1405 - val_accuracy: 0.9576\n",
      "Epoch 2/10\n",
      " - 4s - loss: 0.1120 - accuracy: 0.9679 - val_loss: 0.0997 - val_accuracy: 0.9695\n",
      "Epoch 3/10\n",
      " - 4s - loss: 0.0724 - accuracy: 0.9788 - val_loss: 0.0842 - val_accuracy: 0.9736\n",
      "Epoch 4/10\n",
      " - 5s - loss: 0.0513 - accuracy: 0.9852 - val_loss: 0.0688 - val_accuracy: 0.9776\n",
      "Epoch 5/10\n",
      " - 4s - loss: 0.0373 - accuracy: 0.9893 - val_loss: 0.0619 - val_accuracy: 0.9811\n",
      "Epoch 6/10\n",
      " - 4s - loss: 0.0271 - accuracy: 0.9927 - val_loss: 0.0617 - val_accuracy: 0.9807\n",
      "Epoch 7/10\n",
      " - 5s - loss: 0.0217 - accuracy: 0.9944 - val_loss: 0.0655 - val_accuracy: 0.9811\n",
      "Epoch 8/10\n",
      " - 4s - loss: 0.0148 - accuracy: 0.9967 - val_loss: 0.0648 - val_accuracy: 0.9791\n",
      "Epoch 9/10\n",
      " - 4s - loss: 0.0103 - accuracy: 0.9980 - val_loss: 0.0592 - val_accuracy: 0.9818\n",
      "Epoch 10/10\n",
      " - 4s - loss: 0.0080 - accuracy: 0.9986 - val_loss: 0.0582 - val_accuracy: 0.9826\n",
      "Baseline: 98.26%\n"
     ]
    }
   ],
   "source": [
    "model=baseline_model()\n",
    "model.fit(x_train, y_train, validation_data=(x_test, y_test), epochs=10, batch_size=200, verbose=2)\n",
    "scores = model.evaluate(x_test, y_test, verbose=0)\n",
    "print('Baseline: %.2f%%' %(scores[1]*100))"
   ]
  },
  {
   "cell_type": "code",
   "execution_count": null,
   "metadata": {},
   "outputs": [],
   "source": []
  }
 ],
 "metadata": {
  "kernelspec": {
   "display_name": "Python 3",
   "language": "python",
   "name": "python3"
  },
  "language_info": {
   "codemirror_mode": {
    "name": "ipython",
    "version": 3
   },
   "file_extension": ".py",
   "mimetype": "text/x-python",
   "name": "python",
   "nbconvert_exporter": "python",
   "pygments_lexer": "ipython3",
   "version": "3.7.4"
  }
 },
 "nbformat": 4,
 "nbformat_minor": 2
}
