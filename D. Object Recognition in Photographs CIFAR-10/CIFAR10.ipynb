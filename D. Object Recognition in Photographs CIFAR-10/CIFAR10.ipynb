{
 "cells": [
  {
   "cell_type": "code",
   "execution_count": 15,
   "metadata": {},
   "outputs": [],
   "source": [
    "from keras.datasets import cifar10\n",
    "from keras.models import Sequential\n",
    "from keras.layers import Dense\n",
    "from keras.layers import Dropout\n",
    "from keras.layers import Flatten\n",
    "from keras.constraints import maxnorm\n",
    "from keras.optimizers import SGD\n",
    "from keras.layers.convolutional import Conv2D\n",
    "from keras.layers.convolutional import MaxPooling2D\n",
    "from keras.utils import np_utils\n",
    "from keras.models import model_from_json\n",
    "import os\n",
    "import numpy\n",
    "from keras import backend\n",
    "backend.set_image_data_format('channels_first')"
   ]
  },
  {
   "cell_type": "code",
   "execution_count": 2,
   "metadata": {},
   "outputs": [],
   "source": [
    "seed = 5\n",
    "numpy.random.seed(seed)"
   ]
  },
  {
   "cell_type": "code",
   "execution_count": 5,
   "metadata": {},
   "outputs": [
    {
     "name": "stdout",
     "output_type": "stream",
     "text": [
      "tf.__version__ is 2.1.0\n",
      "tf.keras.__version__ is: 2.2.4-tf\n"
     ]
    }
   ],
   "source": [
    "'''\n",
    "this part is required to solve\n",
    "AttributeError: module 'tensorflow_core._api.v2.config' has no attribute 'experimental_list_devices'.\n",
    "This error occurs because the experimental_list_devices is deprecated in tf 2.1.\n",
    "'''\n",
    "import tensorflow as tf\n",
    "import keras.backend.tensorflow_backend as tfback\n",
    "print(\"tf.__version__ is\", tf.__version__)\n",
    "print(\"tf.keras.__version__ is:\", tf.keras.__version__)\n",
    "def _get_available_gpus():\n",
    "    \"\"\"Get a list of available gpu devices (formatted as strings).\n",
    "\n",
    "    # Returns\n",
    "        A list of available GPU devices.\n",
    "    \"\"\"\n",
    "    #global _LOCAL_DEVICES\n",
    "    if tfback._LOCAL_DEVICES is None:\n",
    "        devices = tf.config.list_logical_devices()\n",
    "        tfback._LOCAL_DEVICES = [x.name for x in devices]\n",
    "    return [x for x in tfback._LOCAL_DEVICES if 'device:gpu' in x.lower()]\n",
    "\n",
    "tfback._get_available_gpus = _get_available_gpus"
   ]
  },
  {
   "cell_type": "code",
   "execution_count": 6,
   "metadata": {},
   "outputs": [],
   "source": [
    "(x_train, y_train), (x_test, y_test) = cifar10.load_data()\n",
    "x_train = x_train.astype('float32')\n",
    "x_test = x_test.astype('float32')\n",
    "x_train = x_train/255\n",
    "x_test = x_test/255\n",
    "y_train = np_utils.to_categorical(y_train)\n",
    "y_test = np_utils.to_categorical(y_test)\n",
    "num_classes = y_test.shape[1]"
   ]
  },
  {
   "cell_type": "code",
   "execution_count": 10,
   "metadata": {},
   "outputs": [
    {
     "name": "stdout",
     "output_type": "stream",
     "text": [
      "Model: \"sequential_4\"\n",
      "_________________________________________________________________\n",
      "Layer (type)                 Output Shape              Param #   \n",
      "=================================================================\n",
      "conv2d_6 (Conv2D)            (None, 32, 32, 32)        896       \n",
      "_________________________________________________________________\n",
      "dropout_5 (Dropout)          (None, 32, 32, 32)        0         \n",
      "_________________________________________________________________\n",
      "conv2d_7 (Conv2D)            (None, 32, 32, 32)        9248      \n",
      "_________________________________________________________________\n",
      "max_pooling2d_3 (MaxPooling2 (None, 32, 16, 16)        0         \n",
      "_________________________________________________________________\n",
      "conv2d_8 (Conv2D)            (None, 64, 16, 16)        18496     \n",
      "_________________________________________________________________\n",
      "dropout_6 (Dropout)          (None, 64, 16, 16)        0         \n",
      "_________________________________________________________________\n",
      "conv2d_9 (Conv2D)            (None, 64, 16, 16)        36928     \n",
      "_________________________________________________________________\n",
      "max_pooling2d_4 (MaxPooling2 (None, 64, 8, 8)          0         \n",
      "_________________________________________________________________\n",
      "conv2d_10 (Conv2D)           (None, 128, 8, 8)         73856     \n",
      "_________________________________________________________________\n",
      "dropout_7 (Dropout)          (None, 128, 8, 8)         0         \n",
      "_________________________________________________________________\n",
      "conv2d_11 (Conv2D)           (None, 128, 8, 8)         147584    \n",
      "_________________________________________________________________\n",
      "max_pooling2d_5 (MaxPooling2 (None, 128, 4, 4)         0         \n",
      "_________________________________________________________________\n",
      "flatten_3 (Flatten)          (None, 2048)              0         \n",
      "_________________________________________________________________\n",
      "dropout_8 (Dropout)          (None, 2048)              0         \n",
      "_________________________________________________________________\n",
      "dense_5 (Dense)              (None, 1024)              2098176   \n",
      "_________________________________________________________________\n",
      "dropout_9 (Dropout)          (None, 1024)              0         \n",
      "_________________________________________________________________\n",
      "dense_6 (Dense)              (None, 512)               524800    \n",
      "_________________________________________________________________\n",
      "dropout_10 (Dropout)         (None, 512)               0         \n",
      "_________________________________________________________________\n",
      "dense_7 (Dense)              (None, 10)                5130      \n",
      "=================================================================\n",
      "Total params: 2,915,114\n",
      "Trainable params: 2,915,114\n",
      "Non-trainable params: 0\n",
      "_________________________________________________________________\n",
      "None\n"
     ]
    }
   ],
   "source": [
    "model = Sequential()\n",
    "model.add(Conv2D(32, (3,3), input_shape=(3,32,32), padding='same', activation='relu'))\n",
    "model.add(Dropout(.2))\n",
    "model.add(Conv2D(32, (3,3), padding='same', activation='relu'))\n",
    "model.add(MaxPooling2D(pool_size=(2,2)))\n",
    "model.add(Conv2D(64, (3,3), padding='same', activation='relu'))\n",
    "model.add(Dropout(.2))\n",
    "model.add(Conv2D(64, (3,3), padding='same', activation='relu'))\n",
    "model.add(MaxPooling2D(pool_size=(2,2)))\n",
    "model.add(Conv2D(128, (3,3), padding='same', activation='relu'))\n",
    "model.add(Dropout(.2))\n",
    "model.add(Conv2D(128, (3,3), padding='same', activation='relu'))\n",
    "model.add(MaxPooling2D(pool_size=(2,2)))\n",
    "model.add(Flatten())\n",
    "model.add(Dropout(.2))\n",
    "model.add(Dense(1024, activation='relu', kernel_constraint=maxnorm(3)))\n",
    "model.add(Dropout(.2))\n",
    "model.add(Dense(512, activation='relu', kernel_constraint=maxnorm(3)))\n",
    "model.add(Dropout(.2))\n",
    "model.add(Dense(num_classes, activation='softmax'))\n",
    "epochs=25\n",
    "lr=.01\n",
    "decay=lr/epochs\n",
    "sgd = SGD(lr=lr, momentum=.9, decay=decay, nesterov=False)\n",
    "model.compile(loss='categorical_crossentropy', optimizer=sgd, metrics=['accuracy'])\n",
    "print(model.summary())"
   ]
  },
  {
   "cell_type": "code",
   "execution_count": 11,
   "metadata": {},
   "outputs": [
    {
     "name": "stdout",
     "output_type": "stream",
     "text": [
      "Train on 50000 samples, validate on 10000 samples\n",
      "Epoch 1/25\n",
      " - 417s - loss: 1.8812 - accuracy: 0.3044 - val_loss: 1.5063 - val_accuracy: 0.4470\n",
      "Epoch 2/25\n",
      " - 422s - loss: 1.4496 - accuracy: 0.4712 - val_loss: 1.4209 - val_accuracy: 0.4908\n",
      "Epoch 3/25\n",
      " - 433s - loss: 1.2505 - accuracy: 0.5478 - val_loss: 1.2317 - val_accuracy: 0.5569\n",
      "Epoch 4/25\n",
      " - 419s - loss: 1.1205 - accuracy: 0.6007 - val_loss: 1.0619 - val_accuracy: 0.6222\n",
      "Epoch 5/25\n",
      " - 433s - loss: 1.0060 - accuracy: 0.6433 - val_loss: 0.9398 - val_accuracy: 0.6643\n",
      "Epoch 6/25\n",
      " - 417s - loss: 0.9123 - accuracy: 0.6762 - val_loss: 0.9067 - val_accuracy: 0.6821\n",
      "Epoch 7/25\n",
      " - 423s - loss: 0.8434 - accuracy: 0.7013 - val_loss: 0.8574 - val_accuracy: 0.6977\n",
      "Epoch 8/25\n",
      " - 402s - loss: 0.7819 - accuracy: 0.7242 - val_loss: 0.7948 - val_accuracy: 0.7229\n",
      "Epoch 9/25\n",
      " - 394s - loss: 0.7333 - accuracy: 0.7405 - val_loss: 0.7818 - val_accuracy: 0.7254\n",
      "Epoch 10/25\n",
      " - 407s - loss: 0.6918 - accuracy: 0.7555 - val_loss: 0.7468 - val_accuracy: 0.7409\n",
      "Epoch 11/25\n",
      " - 438s - loss: 0.6606 - accuracy: 0.7659 - val_loss: 0.7557 - val_accuracy: 0.7327\n",
      "Epoch 12/25\n",
      " - 439s - loss: 0.6225 - accuracy: 0.7800 - val_loss: 0.7077 - val_accuracy: 0.7500\n",
      "Epoch 13/25\n",
      " - 420s - loss: 0.5954 - accuracy: 0.7888 - val_loss: 0.7177 - val_accuracy: 0.7533\n",
      "Epoch 14/25\n",
      " - 387s - loss: 0.5723 - accuracy: 0.7971 - val_loss: 0.6820 - val_accuracy: 0.7611\n",
      "Epoch 15/25\n",
      " - 393s - loss: 0.5452 - accuracy: 0.8074 - val_loss: 0.6753 - val_accuracy: 0.7657\n",
      "Epoch 16/25\n",
      " - 393s - loss: 0.5208 - accuracy: 0.8158 - val_loss: 0.6723 - val_accuracy: 0.7690\n",
      "Epoch 17/25\n",
      " - 397s - loss: 0.5030 - accuracy: 0.8217 - val_loss: 0.6650 - val_accuracy: 0.7719\n",
      "Epoch 18/25\n",
      " - 419s - loss: 0.4836 - accuracy: 0.8288 - val_loss: 0.6714 - val_accuracy: 0.7692\n",
      "Epoch 19/25\n",
      " - 422s - loss: 0.4695 - accuracy: 0.8337 - val_loss: 0.6581 - val_accuracy: 0.7783\n",
      "Epoch 20/25\n",
      " - 421s - loss: 0.4502 - accuracy: 0.8406 - val_loss: 0.6532 - val_accuracy: 0.7797\n",
      "Epoch 21/25\n",
      " - 424s - loss: 0.4354 - accuracy: 0.8445 - val_loss: 0.6506 - val_accuracy: 0.7804\n",
      "Epoch 22/25\n",
      " - 413s - loss: 0.4166 - accuracy: 0.8509 - val_loss: 0.6560 - val_accuracy: 0.7815\n",
      "Epoch 23/25\n",
      " - 392s - loss: 0.4025 - accuracy: 0.8568 - val_loss: 0.6515 - val_accuracy: 0.7854\n",
      "Epoch 24/25\n",
      " - 398s - loss: 0.3915 - accuracy: 0.8602 - val_loss: 0.6584 - val_accuracy: 0.7797\n",
      "Epoch 25/25\n",
      " - 441s - loss: 0.3808 - accuracy: 0.8648 - val_loss: 0.6648 - val_accuracy: 0.7837\n"
     ]
    }
   ],
   "source": [
    "model.fit(x_train, y_train, validation_data=(x_test,y_test), epochs=epochs, batch_size=32, verbose=2)\n",
    "scores = model.evaluate(x_test,y_test, verbose=0)"
   ]
  },
  {
   "cell_type": "code",
   "execution_count": 12,
   "metadata": {},
   "outputs": [
    {
     "name": "stdout",
     "output_type": "stream",
     "text": [
      "Accuracy: 78.37%\n"
     ]
    }
   ],
   "source": [
    "print('Accuracy: %.2f%%' % (scores[1]*100))"
   ]
  },
  {
   "cell_type": "code",
   "execution_count": 16,
   "metadata": {},
   "outputs": [
    {
     "name": "stdout",
     "output_type": "stream",
     "text": [
      "Saved model to disk\n"
     ]
    }
   ],
   "source": [
    "model_json = model.to_json()\n",
    "with open('model.json', 'w') as json_file:\n",
    "    json_file.write(model_json)\n",
    "model.save_weights('model.h5')\n",
    "print('Saved model to disk')"
   ]
  },
  {
   "cell_type": "code",
   "execution_count": 21,
   "metadata": {},
   "outputs": [
    {
     "name": "stdout",
     "output_type": "stream",
     "text": [
      "Loaded model from disk\n"
     ]
    }
   ],
   "source": [
    "json_file = open('model.json', 'r')\n",
    "loaded_model_json = json_file.read()\n",
    "json_file.close()\n",
    "loaded_model = model_from_json(loaded_model_json)\n",
    "loaded_model.load_weights('model.h5')\n",
    "print(\"Loaded model from disk\")"
   ]
  },
  {
   "cell_type": "code",
   "execution_count": 22,
   "metadata": {},
   "outputs": [
    {
     "name": "stdout",
     "output_type": "stream",
     "text": [
      "10000/10000 [==============================] - 19s 2ms/step\n",
      "accuracy: 79.50%\n"
     ]
    }
   ],
   "source": [
    "scores = model.evaluate(x_test,y_test)\n",
    "print(\"%s: %.2f%%\" % (model.metrics_names[1], scores[1]*100))"
   ]
  },
  {
   "cell_type": "code",
   "execution_count": null,
   "metadata": {},
   "outputs": [],
   "source": []
  }
 ],
 "metadata": {
  "kernelspec": {
   "display_name": "Python 3",
   "language": "python",
   "name": "python3"
  },
  "language_info": {
   "codemirror_mode": {
    "name": "ipython",
    "version": 3
   },
   "file_extension": ".py",
   "mimetype": "text/x-python",
   "name": "python",
   "nbconvert_exporter": "python",
   "pygments_lexer": "ipython3",
   "version": "3.7.4"
  }
 },
 "nbformat": 4,
 "nbformat_minor": 2
}
