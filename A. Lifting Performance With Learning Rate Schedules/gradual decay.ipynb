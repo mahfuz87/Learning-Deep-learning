{
 "cells": [
  {
   "cell_type": "code",
   "execution_count": 9,
   "metadata": {},
   "outputs": [],
   "source": [
    "from keras.models import Sequential\n",
    "from keras.layers import Dense\n",
    "from keras.optimizers import SGD\n",
    "from sklearn.preprocessing import LabelEncoder\n",
    "import numpy\n",
    "import pandas"
   ]
  },
  {
   "cell_type": "code",
   "execution_count": 10,
   "metadata": {},
   "outputs": [],
   "source": [
    "seed = 5\n",
    "numpy.random.seed(seed)"
   ]
  },
  {
   "cell_type": "code",
   "execution_count": 11,
   "metadata": {},
   "outputs": [],
   "source": [
    "dataframe = pandas.read_csv('ionosphere.csv', header=None)\n",
    "dataset = dataframe.values\n",
    "x = dataset[:,0:34]\n",
    "y = dataset[:,34]\n",
    "encoder = LabelEncoder()\n",
    "encoder.fit(y)\n",
    "encoded_y = encoder.transform(y)"
   ]
  },
  {
   "cell_type": "code",
   "execution_count": 12,
   "metadata": {},
   "outputs": [
    {
     "name": "stdout",
     "output_type": "stream",
     "text": [
      "Train on 235 samples, validate on 116 samples\n",
      "Epoch 1/50\n",
      " - 0s - loss: 0.6792 - accuracy: 0.6340 - val_loss: 0.6097 - val_accuracy: 0.8879\n",
      "Epoch 2/50\n",
      " - 0s - loss: 0.6281 - accuracy: 0.7489 - val_loss: 0.5088 - val_accuracy: 0.8707\n",
      "Epoch 3/50\n",
      " - 0s - loss: 0.5619 - accuracy: 0.7787 - val_loss: 0.4967 - val_accuracy: 0.8621\n",
      "Epoch 4/50\n",
      " - 0s - loss: 0.4829 - accuracy: 0.8170 - val_loss: 0.4053 - val_accuracy: 0.9483\n",
      "Epoch 5/50\n",
      " - 0s - loss: 0.4017 - accuracy: 0.8596 - val_loss: 0.2479 - val_accuracy: 0.9655\n",
      "Epoch 6/50\n",
      " - 0s - loss: 0.3640 - accuracy: 0.8511 - val_loss: 0.3882 - val_accuracy: 0.9052\n",
      "Epoch 7/50\n",
      " - 0s - loss: 0.3168 - accuracy: 0.8851 - val_loss: 0.2919 - val_accuracy: 0.9224\n",
      "Epoch 8/50\n",
      " - 0s - loss: 0.2790 - accuracy: 0.8894 - val_loss: 0.2184 - val_accuracy: 0.9483\n",
      "Epoch 9/50\n",
      " - 0s - loss: 0.2397 - accuracy: 0.9149 - val_loss: 0.1784 - val_accuracy: 0.9569\n",
      "Epoch 10/50\n",
      " - 0s - loss: 0.2176 - accuracy: 0.9106 - val_loss: 0.1732 - val_accuracy: 0.9569\n",
      "Epoch 11/50\n",
      " - 0s - loss: 0.2063 - accuracy: 0.9106 - val_loss: 0.1259 - val_accuracy: 0.9655\n",
      "Epoch 12/50\n",
      " - 0s - loss: 0.2117 - accuracy: 0.9362 - val_loss: 0.2235 - val_accuracy: 0.9224\n",
      "Epoch 13/50\n",
      " - 0s - loss: 0.2036 - accuracy: 0.9106 - val_loss: 0.1785 - val_accuracy: 0.9569\n",
      "Epoch 14/50\n",
      " - 0s - loss: 0.1608 - accuracy: 0.9447 - val_loss: 0.1649 - val_accuracy: 0.9655\n",
      "Epoch 15/50\n",
      " - 0s - loss: 0.1542 - accuracy: 0.9574 - val_loss: 0.1076 - val_accuracy: 0.9741\n",
      "Epoch 16/50\n",
      " - 0s - loss: 0.1524 - accuracy: 0.9574 - val_loss: 0.1631 - val_accuracy: 0.9483\n",
      "Epoch 17/50\n",
      " - 0s - loss: 0.1382 - accuracy: 0.9447 - val_loss: 0.1715 - val_accuracy: 0.9569\n",
      "Epoch 18/50\n",
      " - 0s - loss: 0.1392 - accuracy: 0.9489 - val_loss: 0.0887 - val_accuracy: 0.9741\n",
      "Epoch 19/50\n",
      " - 0s - loss: 0.1389 - accuracy: 0.9447 - val_loss: 0.1368 - val_accuracy: 0.9828\n",
      "Epoch 20/50\n",
      " - 0s - loss: 0.1213 - accuracy: 0.9617 - val_loss: 0.1385 - val_accuracy: 0.9741\n",
      "Epoch 21/50\n",
      " - 0s - loss: 0.1100 - accuracy: 0.9702 - val_loss: 0.0858 - val_accuracy: 0.9828\n",
      "Epoch 22/50\n",
      " - 0s - loss: 0.1137 - accuracy: 0.9702 - val_loss: 0.1330 - val_accuracy: 0.9828\n",
      "Epoch 23/50\n",
      " - 0s - loss: 0.1057 - accuracy: 0.9660 - val_loss: 0.1128 - val_accuracy: 0.9914\n",
      "Epoch 24/50\n",
      " - 0s - loss: 0.1192 - accuracy: 0.9660 - val_loss: 0.0919 - val_accuracy: 0.9914\n",
      "Epoch 25/50\n",
      " - 0s - loss: 0.0994 - accuracy: 0.9702 - val_loss: 0.0977 - val_accuracy: 0.9914\n",
      "Epoch 26/50\n",
      " - 0s - loss: 0.0987 - accuracy: 0.9745 - val_loss: 0.1406 - val_accuracy: 0.9741\n",
      "Epoch 27/50\n",
      " - 0s - loss: 0.1011 - accuracy: 0.9702 - val_loss: 0.1062 - val_accuracy: 0.9914\n",
      "Epoch 28/50\n",
      " - 0s - loss: 0.0893 - accuracy: 0.9702 - val_loss: 0.0850 - val_accuracy: 0.9914\n",
      "Epoch 29/50\n",
      " - 0s - loss: 0.0884 - accuracy: 0.9787 - val_loss: 0.1109 - val_accuracy: 0.9914\n",
      "Epoch 30/50\n",
      " - 0s - loss: 0.0873 - accuracy: 0.9787 - val_loss: 0.0701 - val_accuracy: 0.9828\n",
      "Epoch 31/50\n",
      " - 0s - loss: 0.0834 - accuracy: 0.9745 - val_loss: 0.1149 - val_accuracy: 0.9828\n",
      "Epoch 32/50\n",
      " - 0s - loss: 0.0792 - accuracy: 0.9745 - val_loss: 0.0694 - val_accuracy: 0.9828\n",
      "Epoch 33/50\n",
      " - 0s - loss: 0.0808 - accuracy: 0.9787 - val_loss: 0.0906 - val_accuracy: 0.9914\n",
      "Epoch 34/50\n",
      " - 0s - loss: 0.0757 - accuracy: 0.9830 - val_loss: 0.0812 - val_accuracy: 0.9914\n",
      "Epoch 35/50\n",
      " - 0s - loss: 0.0729 - accuracy: 0.9830 - val_loss: 0.0836 - val_accuracy: 0.9914\n",
      "Epoch 36/50\n",
      " - 0s - loss: 0.0705 - accuracy: 0.9830 - val_loss: 0.0706 - val_accuracy: 0.9914\n",
      "Epoch 37/50\n",
      " - 0s - loss: 0.0737 - accuracy: 0.9787 - val_loss: 0.0945 - val_accuracy: 0.9914\n",
      "Epoch 38/50\n",
      " - 0s - loss: 0.0681 - accuracy: 0.9830 - val_loss: 0.0738 - val_accuracy: 0.9914\n",
      "Epoch 39/50\n",
      " - 0s - loss: 0.0670 - accuracy: 0.9830 - val_loss: 0.0787 - val_accuracy: 0.9914\n",
      "Epoch 40/50\n",
      " - 0s - loss: 0.0654 - accuracy: 0.9830 - val_loss: 0.0823 - val_accuracy: 0.9914\n",
      "Epoch 41/50\n",
      " - 0s - loss: 0.0647 - accuracy: 0.9830 - val_loss: 0.0696 - val_accuracy: 0.9914\n",
      "Epoch 42/50\n",
      " - 0s - loss: 0.0639 - accuracy: 0.9830 - val_loss: 0.0695 - val_accuracy: 0.9914\n",
      "Epoch 43/50\n",
      " - 0s - loss: 0.0621 - accuracy: 0.9830 - val_loss: 0.0778 - val_accuracy: 0.9914\n",
      "Epoch 44/50\n",
      " - 0s - loss: 0.0605 - accuracy: 0.9830 - val_loss: 0.0672 - val_accuracy: 0.9914\n",
      "Epoch 45/50\n",
      " - 0s - loss: 0.0630 - accuracy: 0.9830 - val_loss: 0.0802 - val_accuracy: 0.9914\n",
      "Epoch 46/50\n",
      " - 0s - loss: 0.0597 - accuracy: 0.9830 - val_loss: 0.0660 - val_accuracy: 0.9914\n",
      "Epoch 47/50\n",
      " - 0s - loss: 0.0592 - accuracy: 0.9830 - val_loss: 0.0757 - val_accuracy: 0.9914\n",
      "Epoch 48/50\n",
      " - 0s - loss: 0.0597 - accuracy: 0.9830 - val_loss: 0.0632 - val_accuracy: 0.9914\n",
      "Epoch 49/50\n",
      " - 0s - loss: 0.0588 - accuracy: 0.9830 - val_loss: 0.0817 - val_accuracy: 0.9914\n",
      "Epoch 50/50\n",
      " - 0s - loss: 0.0659 - accuracy: 0.9830 - val_loss: 0.0577 - val_accuracy: 0.9914\n"
     ]
    },
    {
     "data": {
      "text/plain": [
       "<keras.callbacks.callbacks.History at 0x25e29889c48>"
      ]
     },
     "execution_count": 12,
     "metadata": {},
     "output_type": "execute_result"
    }
   ],
   "source": [
    "model = Sequential()\n",
    "model.add(Dense(34, input_dim=34, kernel_initializer='normal', activation='relu'))\n",
    "model.add(Dense(1, kernel_initializer='normal', activation='sigmoid'))\n",
    "epochs = 50\n",
    "learning_rate = .1\n",
    "decay_rate = learning_rate/epochs\n",
    "momentum = .8\n",
    "sgd = SGD(lr=learning_rate, momentum=momentum, decay=decay_rate, nesterov=False)\n",
    "model.compile(loss='binary_crossentropy', optimizer=sgd, metrics=['accuracy'])\n",
    "model.fit(x, encoded_y, validation_split=.33, epochs=epochs, batch_size=28, verbose=2)"
   ]
  },
  {
   "cell_type": "code",
   "execution_count": null,
   "metadata": {},
   "outputs": [],
   "source": []
  }
 ],
 "metadata": {
  "kernelspec": {
   "display_name": "Python 3",
   "language": "python",
   "name": "python3"
  },
  "language_info": {
   "codemirror_mode": {
    "name": "ipython",
    "version": 3
   },
   "file_extension": ".py",
   "mimetype": "text/x-python",
   "name": "python",
   "nbconvert_exporter": "python",
   "pygments_lexer": "ipython3",
   "version": "3.7.4"
  }
 },
 "nbformat": 4,
 "nbformat_minor": 2
}
