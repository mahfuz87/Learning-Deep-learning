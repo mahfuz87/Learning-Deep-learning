{
 "cells": [
  {
   "cell_type": "code",
   "execution_count": 1,
   "metadata": {},
   "outputs": [
    {
     "name": "stderr",
     "output_type": "stream",
     "text": [
      "Using TensorFlow backend.\n"
     ]
    }
   ],
   "source": [
    "from keras.models import Sequential\n",
    "from keras.layers import Dense\n",
    "from keras.optimizers import SGD\n",
    "from sklearn.preprocessing import LabelEncoder\n",
    "from keras.callbacks import LearningRateScheduler\n",
    "import numpy\n",
    "import pandas\n",
    "import math"
   ]
  },
  {
   "cell_type": "code",
   "execution_count": 2,
   "metadata": {},
   "outputs": [],
   "source": [
    "def step_decay(epoch):\n",
    "    initial_lr = .1\n",
    "    drop = .5\n",
    "    epochs_drop = 10\n",
    "    lr = initial_lr * math.pow(drop, math.floor((1+epoch)/epochs_drop))\n",
    "    return lr"
   ]
  },
  {
   "cell_type": "code",
   "execution_count": 3,
   "metadata": {},
   "outputs": [],
   "source": [
    "seed = 5\n",
    "numpy.random.seed(seed)"
   ]
  },
  {
   "cell_type": "code",
   "execution_count": 4,
   "metadata": {},
   "outputs": [],
   "source": [
    "dataframe = pandas.read_csv('ionosphere.csv', header=None)\n",
    "dataset = dataframe.values\n",
    "x = dataset[:,0:34]\n",
    "y = dataset[:,34]\n",
    "encoder = LabelEncoder()\n",
    "encoder.fit(y)\n",
    "encoded_y = encoder.transform(y)"
   ]
  },
  {
   "cell_type": "code",
   "execution_count": 6,
   "metadata": {},
   "outputs": [
    {
     "name": "stdout",
     "output_type": "stream",
     "text": [
      "Train on 235 samples, validate on 116 samples\n",
      "Epoch 1/50\n",
      " - 0s - loss: 0.6875 - accuracy: 0.6298 - val_loss: 0.6327 - val_accuracy: 0.8966\n",
      "Epoch 2/50\n",
      " - 0s - loss: 0.6255 - accuracy: 0.7489 - val_loss: 0.4861 - val_accuracy: 0.8276\n",
      "Epoch 3/50\n",
      " - 0s - loss: 0.5216 - accuracy: 0.8000 - val_loss: 0.5142 - val_accuracy: 0.7931\n",
      "Epoch 4/50\n",
      " - 0s - loss: 0.3946 - accuracy: 0.8426 - val_loss: 0.3129 - val_accuracy: 0.9138\n",
      "Epoch 5/50\n",
      " - 0s - loss: 0.2815 - accuracy: 0.8851 - val_loss: 0.1613 - val_accuracy: 0.9569\n",
      "Epoch 6/50\n",
      " - 0s - loss: 0.2644 - accuracy: 0.8936 - val_loss: 0.2472 - val_accuracy: 0.9138\n",
      "Epoch 7/50\n",
      " - 0s - loss: 0.2479 - accuracy: 0.9191 - val_loss: 0.2883 - val_accuracy: 0.9224\n",
      "Epoch 8/50\n",
      " - 0s - loss: 0.1972 - accuracy: 0.9319 - val_loss: 0.1410 - val_accuracy: 0.9741\n",
      "Epoch 9/50\n",
      " - 0s - loss: 0.1730 - accuracy: 0.9277 - val_loss: 0.1211 - val_accuracy: 0.9828\n",
      "Epoch 10/50\n",
      " - 0s - loss: 0.1351 - accuracy: 0.9447 - val_loss: 0.1185 - val_accuracy: 0.9741\n",
      "Epoch 11/50\n",
      " - 0s - loss: 0.1262 - accuracy: 0.9489 - val_loss: 0.1052 - val_accuracy: 0.9828\n",
      "Epoch 12/50\n",
      " - 0s - loss: 0.1219 - accuracy: 0.9489 - val_loss: 0.1251 - val_accuracy: 0.9569\n",
      "Epoch 13/50\n",
      " - 0s - loss: 0.1117 - accuracy: 0.9617 - val_loss: 0.0995 - val_accuracy: 0.9741\n",
      "Epoch 14/50\n",
      " - 0s - loss: 0.1041 - accuracy: 0.9702 - val_loss: 0.0892 - val_accuracy: 0.9828\n",
      "Epoch 15/50\n",
      " - 0s - loss: 0.1056 - accuracy: 0.9702 - val_loss: 0.0894 - val_accuracy: 0.9828\n",
      "Epoch 16/50\n",
      " - 0s - loss: 0.1075 - accuracy: 0.9574 - val_loss: 0.0966 - val_accuracy: 0.9828\n",
      "Epoch 17/50\n",
      " - 0s - loss: 0.0978 - accuracy: 0.9787 - val_loss: 0.0866 - val_accuracy: 0.9914\n",
      "Epoch 18/50\n",
      " - 0s - loss: 0.0886 - accuracy: 0.9787 - val_loss: 0.0914 - val_accuracy: 0.9828\n",
      "Epoch 19/50\n",
      " - 0s - loss: 0.0835 - accuracy: 0.9787 - val_loss: 0.0869 - val_accuracy: 0.9914\n",
      "Epoch 20/50\n",
      " - 0s - loss: 0.0781 - accuracy: 0.9787 - val_loss: 0.0862 - val_accuracy: 0.9828\n",
      "Epoch 21/50\n",
      " - 0s - loss: 0.0755 - accuracy: 0.9787 - val_loss: 0.0815 - val_accuracy: 0.9828\n",
      "Epoch 22/50\n",
      " - 0s - loss: 0.0753 - accuracy: 0.9787 - val_loss: 0.0764 - val_accuracy: 0.9828\n",
      "Epoch 23/50\n",
      " - 0s - loss: 0.0724 - accuracy: 0.9787 - val_loss: 0.0879 - val_accuracy: 0.9914\n",
      "Epoch 24/50\n",
      " - 0s - loss: 0.0745 - accuracy: 0.9787 - val_loss: 0.0751 - val_accuracy: 0.9914\n",
      "Epoch 25/50\n",
      " - 0s - loss: 0.0704 - accuracy: 0.9787 - val_loss: 0.0878 - val_accuracy: 0.9914\n",
      "Epoch 26/50\n",
      " - 0s - loss: 0.0728 - accuracy: 0.9787 - val_loss: 0.0763 - val_accuracy: 0.9914\n",
      "Epoch 27/50\n",
      " - 0s - loss: 0.0650 - accuracy: 0.9787 - val_loss: 0.0957 - val_accuracy: 0.9914\n",
      "Epoch 28/50\n",
      " - 0s - loss: 0.0689 - accuracy: 0.9787 - val_loss: 0.0828 - val_accuracy: 0.9914\n",
      "Epoch 29/50\n",
      " - 0s - loss: 0.0678 - accuracy: 0.9830 - val_loss: 0.0652 - val_accuracy: 0.9828\n",
      "Epoch 30/50\n",
      " - 0s - loss: 0.0639 - accuracy: 0.9830 - val_loss: 0.0939 - val_accuracy: 0.9914\n",
      "Epoch 31/50\n",
      " - 0s - loss: 0.0645 - accuracy: 0.9787 - val_loss: 0.0846 - val_accuracy: 0.9914\n",
      "Epoch 32/50\n",
      " - 0s - loss: 0.0613 - accuracy: 0.9787 - val_loss: 0.0788 - val_accuracy: 0.9914\n",
      "Epoch 33/50\n",
      " - 0s - loss: 0.0599 - accuracy: 0.9787 - val_loss: 0.0704 - val_accuracy: 0.9914\n",
      "Epoch 34/50\n",
      " - 0s - loss: 0.0607 - accuracy: 0.9830 - val_loss: 0.0724 - val_accuracy: 0.9914\n",
      "Epoch 35/50\n",
      " - 0s - loss: 0.0591 - accuracy: 0.9787 - val_loss: 0.0773 - val_accuracy: 0.9914\n",
      "Epoch 36/50\n",
      " - 0s - loss: 0.0587 - accuracy: 0.9787 - val_loss: 0.0766 - val_accuracy: 0.9914\n",
      "Epoch 37/50\n",
      " - 0s - loss: 0.0593 - accuracy: 0.9830 - val_loss: 0.0718 - val_accuracy: 0.9914\n",
      "Epoch 38/50\n",
      " - 0s - loss: 0.0579 - accuracy: 0.9830 - val_loss: 0.0762 - val_accuracy: 0.9914\n",
      "Epoch 39/50\n",
      " - 0s - loss: 0.0573 - accuracy: 0.9830 - val_loss: 0.0762 - val_accuracy: 0.9914\n",
      "Epoch 40/50\n",
      " - 0s - loss: 0.0567 - accuracy: 0.9830 - val_loss: 0.0725 - val_accuracy: 0.9914\n",
      "Epoch 41/50\n",
      " - 0s - loss: 0.0563 - accuracy: 0.9830 - val_loss: 0.0735 - val_accuracy: 0.9914\n",
      "Epoch 42/50\n",
      " - 0s - loss: 0.0561 - accuracy: 0.9830 - val_loss: 0.0739 - val_accuracy: 0.9914\n",
      "Epoch 43/50\n",
      " - 0s - loss: 0.0558 - accuracy: 0.9830 - val_loss: 0.0722 - val_accuracy: 0.9914\n",
      "Epoch 44/50\n",
      " - 0s - loss: 0.0555 - accuracy: 0.9830 - val_loss: 0.0737 - val_accuracy: 0.9914\n",
      "Epoch 45/50\n",
      " - 0s - loss: 0.0553 - accuracy: 0.9830 - val_loss: 0.0740 - val_accuracy: 0.9914\n",
      "Epoch 46/50\n",
      " - 0s - loss: 0.0554 - accuracy: 0.9830 - val_loss: 0.0751 - val_accuracy: 0.9914\n",
      "Epoch 47/50\n",
      " - 0s - loss: 0.0549 - accuracy: 0.9830 - val_loss: 0.0733 - val_accuracy: 0.9914\n",
      "Epoch 48/50\n",
      " - 0s - loss: 0.0547 - accuracy: 0.9830 - val_loss: 0.0766 - val_accuracy: 0.9914\n",
      "Epoch 49/50\n",
      " - 0s - loss: 0.0551 - accuracy: 0.9830 - val_loss: 0.0727 - val_accuracy: 0.9914\n",
      "Epoch 50/50\n",
      " - 0s - loss: 0.0548 - accuracy: 0.9830 - val_loss: 0.0784 - val_accuracy: 0.9914\n"
     ]
    },
    {
     "data": {
      "text/plain": [
       "<keras.callbacks.callbacks.History at 0x197e758af08>"
      ]
     },
     "execution_count": 6,
     "metadata": {},
     "output_type": "execute_result"
    }
   ],
   "source": [
    "model = Sequential()\n",
    "model.add(Dense(34, input_dim=34, kernel_initializer='normal', activation='relu'))\n",
    "model.add(Dense(1, kernel_initializer='normal', activation='sigmoid'))\n",
    "sgd = SGD(lr=0, momentum=.9, decay=0, nesterov=False)\n",
    "model.compile(loss='binary_crossentropy', optimizer=sgd, metrics=['accuracy'])\n",
    "lr = LearningRateScheduler(step_decay)\n",
    "callbacks_list = [lr]\n",
    "model.fit(x, encoded_y, validation_split=.33, epochs=50, batch_size=28, callbacks=callbacks_list, verbose=2)"
   ]
  },
  {
   "cell_type": "code",
   "execution_count": null,
   "metadata": {},
   "outputs": [],
   "source": []
  }
 ],
 "metadata": {
  "kernelspec": {
   "display_name": "Python 3",
   "language": "python",
   "name": "python3"
  },
  "language_info": {
   "codemirror_mode": {
    "name": "ipython",
    "version": 3
   },
   "file_extension": ".py",
   "mimetype": "text/x-python",
   "name": "python",
   "nbconvert_exporter": "python",
   "pygments_lexer": "ipython3",
   "version": "3.7.4"
  }
 },
 "nbformat": 4,
 "nbformat_minor": 2
}
