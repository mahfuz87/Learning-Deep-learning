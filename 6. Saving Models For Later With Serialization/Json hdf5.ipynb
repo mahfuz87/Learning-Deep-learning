{
 "cells": [
  {
   "cell_type": "code",
   "execution_count": 32,
   "metadata": {},
   "outputs": [],
   "source": [
    "from keras.models import Sequential\n",
    "from keras.layers import Dense\n",
    "from keras.models import model_from_json\n",
    "import numpy\n",
    "import os"
   ]
  },
  {
   "cell_type": "code",
   "execution_count": 33,
   "metadata": {},
   "outputs": [],
   "source": [
    "seed = 5\n",
    "numpy.random.seed(seed)"
   ]
  },
  {
   "cell_type": "code",
   "execution_count": 34,
   "metadata": {},
   "outputs": [],
   "source": [
    "dataset = numpy.loadtxt('pima-indians-diabetes.csv', delimiter=',')\n",
    "x = dataset[:,0:8]\n",
    "y = dataset[:,8]"
   ]
  },
  {
   "cell_type": "code",
   "execution_count": 35,
   "metadata": {},
   "outputs": [],
   "source": [
    "model = Sequential()\n",
    "model.add(Dense(12, input_dim=8, kernel_initializer='uniform', activation='relu'))\n",
    "model.add(Dense(8, kernel_initializer='uniform', activation='relu'))\n",
    "model.add(Dense(1, kernel_initializer='uniform', activation='sigmoid'))\n",
    "model.compile(loss='binary_crossentropy', optimizer='adam', metrics=['accuracy'])"
   ]
  },
  {
   "cell_type": "code",
   "execution_count": 36,
   "metadata": {},
   "outputs": [
    {
     "name": "stdout",
     "output_type": "stream",
     "text": [
      "Epoch 1/10\n",
      "768/768 [==============================] - 0s 204us/step - loss: 0.6773 - accuracy: 0.6510\n",
      "Epoch 2/10\n",
      "768/768 [==============================] - 0s 83us/step - loss: 0.6610 - accuracy: 0.6510\n",
      "Epoch 3/10\n",
      "768/768 [==============================] - 0s 83us/step - loss: 0.6527 - accuracy: 0.6510\n",
      "Epoch 4/10\n",
      "768/768 [==============================] - 0s 78us/step - loss: 0.6449 - accuracy: 0.6510\n",
      "Epoch 5/10\n",
      "768/768 [==============================] - 0s 81us/step - loss: 0.6333 - accuracy: 0.6510\n",
      "Epoch 6/10\n",
      "768/768 [==============================] - 0s 83us/step - loss: 0.6266 - accuracy: 0.6510\n",
      "Epoch 7/10\n",
      "768/768 [==============================] - 0s 83us/step - loss: 0.6157 - accuracy: 0.6510\n",
      "Epoch 8/10\n",
      "768/768 [==============================] - 0s 82us/step - loss: 0.6169 - accuracy: 0.6510\n",
      "Epoch 9/10\n",
      "768/768 [==============================] - 0s 82us/step - loss: 0.6115 - accuracy: 0.6510\n",
      "Epoch 10/10\n",
      "768/768 [==============================] - 0s 86us/step - loss: 0.6062 - accuracy: 0.6510\n"
     ]
    },
    {
     "data": {
      "text/plain": [
       "<keras.callbacks.callbacks.History at 0x294bceacd48>"
      ]
     },
     "execution_count": 36,
     "metadata": {},
     "output_type": "execute_result"
    }
   ],
   "source": [
    "model.fit(x, y, epochs=10, batch_size=10)"
   ]
  },
  {
   "cell_type": "code",
   "execution_count": 37,
   "metadata": {},
   "outputs": [
    {
     "name": "stdout",
     "output_type": "stream",
     "text": [
      "accuracy: 65.10%\n"
     ]
    }
   ],
   "source": [
    "scores = model.evaluate(x, y, verbose=0)\n",
    "print(\"%s: %.2f%%\" % (model.metrics_names[1], scores[1]*100))"
   ]
  },
  {
   "cell_type": "code",
   "execution_count": 38,
   "metadata": {},
   "outputs": [
    {
     "name": "stdout",
     "output_type": "stream",
     "text": [
      "Saved model to disk\n"
     ]
    }
   ],
   "source": [
    "model_json = model.to_json()\n",
    "with open('model.json', 'w') as json_file:\n",
    "    json_file.write(model_json)\n",
    "model.save_weights('model.h5')\n",
    "print('Saved model to disk')"
   ]
  },
  {
   "cell_type": "code",
   "execution_count": 39,
   "metadata": {},
   "outputs": [
    {
     "name": "stdout",
     "output_type": "stream",
     "text": [
      "Loaded model from disk\n"
     ]
    }
   ],
   "source": [
    "json_file = open('model.json', 'r')\n",
    "loaded_model_json = json_file.read()\n",
    "json_file.close()\n",
    "loaded_model = model_from_json(loaded_model_json)\n",
    "loaded_model.load_weights('model.h5')\n",
    "print(\"Loaded model from disk\")"
   ]
  },
  {
   "cell_type": "code",
   "execution_count": 40,
   "metadata": {},
   "outputs": [
    {
     "name": "stdout",
     "output_type": "stream",
     "text": [
      "Epoch 1/150\n",
      "768/768 [==============================] - 0s 83us/step - loss: 0.6038 - accuracy: 0.6510\n",
      "Epoch 2/150\n",
      "768/768 [==============================] - 0s 79us/step - loss: 0.6067 - accuracy: 0.6510\n",
      "Epoch 3/150\n",
      "768/768 [==============================] - 0s 83us/step - loss: 0.6173 - accuracy: 0.6510\n",
      "Epoch 4/150\n",
      "768/768 [==============================] - 0s 86us/step - loss: 0.6035 - accuracy: 0.6510\n",
      "Epoch 5/150\n",
      "768/768 [==============================] - 0s 82us/step - loss: 0.6019 - accuracy: 0.6510\n",
      "Epoch 6/150\n",
      "768/768 [==============================] - 0s 83us/step - loss: 0.6024 - accuracy: 0.6510\n",
      "Epoch 7/150\n",
      "768/768 [==============================] - 0s 82us/step - loss: 0.6010 - accuracy: 0.6510\n",
      "Epoch 8/150\n",
      "768/768 [==============================] - 0s 79us/step - loss: 0.5995 - accuracy: 0.6510\n",
      "Epoch 9/150\n",
      "768/768 [==============================] - 0s 81us/step - loss: 0.6010 - accuracy: 0.6510\n",
      "Epoch 10/150\n",
      "768/768 [==============================] - 0s 82us/step - loss: 0.5969 - accuracy: 0.6510\n",
      "Epoch 11/150\n",
      "768/768 [==============================] - 0s 83us/step - loss: 0.6020 - accuracy: 0.6510\n",
      "Epoch 12/150\n",
      "768/768 [==============================] - 0s 82us/step - loss: 0.5939 - accuracy: 0.6510\n",
      "Epoch 13/150\n",
      "768/768 [==============================] - 0s 82us/step - loss: 0.5979 - accuracy: 0.6510\n",
      "Epoch 14/150\n",
      "768/768 [==============================] - 0s 81us/step - loss: 0.5920 - accuracy: 0.6510\n",
      "Epoch 15/150\n",
      "768/768 [==============================] - 0s 79us/step - loss: 0.5977 - accuracy: 0.6510\n",
      "Epoch 16/150\n",
      "768/768 [==============================] - 0s 86us/step - loss: 0.5910 - accuracy: 0.6510\n",
      "Epoch 17/150\n",
      "768/768 [==============================] - 0s 80us/step - loss: 0.5972 - accuracy: 0.6510\n",
      "Epoch 18/150\n",
      "768/768 [==============================] - 0s 83us/step - loss: 0.5905 - accuracy: 0.6510\n",
      "Epoch 19/150\n",
      "768/768 [==============================] - 0s 83us/step - loss: 0.5892 - accuracy: 0.6510\n",
      "Epoch 20/150\n",
      "768/768 [==============================] - 0s 79us/step - loss: 0.5946 - accuracy: 0.6510\n",
      "Epoch 21/150\n",
      "768/768 [==============================] - 0s 79us/step - loss: 0.5868 - accuracy: 0.6510\n",
      "Epoch 22/150\n",
      "768/768 [==============================] - 0s 79us/step - loss: 0.5872 - accuracy: 0.6510\n",
      "Epoch 23/150\n",
      "768/768 [==============================] - 0s 83us/step - loss: 0.5947 - accuracy: 0.6510\n",
      "Epoch 24/150\n",
      "768/768 [==============================] - 0s 78us/step - loss: 0.5953 - accuracy: 0.6510\n",
      "Epoch 25/150\n",
      "768/768 [==============================] - 0s 77us/step - loss: 0.5867 - accuracy: 0.6510\n",
      "Epoch 26/150\n",
      "768/768 [==============================] - 0s 81us/step - loss: 0.5910 - accuracy: 0.6510\n",
      "Epoch 27/150\n",
      "768/768 [==============================] - ETA: 0s - loss: 0.5986 - accuracy: 0.64 - 0s 79us/step - loss: 0.5974 - accuracy: 0.6510\n",
      "Epoch 28/150\n",
      "768/768 [==============================] - 0s 78us/step - loss: 0.5845 - accuracy: 0.6510\n",
      "Epoch 29/150\n",
      "768/768 [==============================] - 0s 78us/step - loss: 0.5888 - accuracy: 0.6510\n",
      "Epoch 30/150\n",
      "768/768 [==============================] - 0s 81us/step - loss: 0.5914 - accuracy: 0.6510\n",
      "Epoch 31/150\n",
      "768/768 [==============================] - 0s 77us/step - loss: 0.5826 - accuracy: 0.6510\n",
      "Epoch 32/150\n",
      "768/768 [==============================] - 0s 79us/step - loss: 0.5856 - accuracy: 0.6510\n",
      "Epoch 33/150\n",
      "768/768 [==============================] - 0s 79us/step - loss: 0.5817 - accuracy: 0.6484\n",
      "Epoch 34/150\n",
      "768/768 [==============================] - 0s 77us/step - loss: 0.5855 - accuracy: 0.6979\n",
      "Epoch 35/150\n",
      "768/768 [==============================] - 0s 79us/step - loss: 0.5828 - accuracy: 0.7044\n",
      "Epoch 36/150\n",
      "768/768 [==============================] - 0s 79us/step - loss: 0.5860 - accuracy: 0.7018\n",
      "Epoch 37/150\n",
      "768/768 [==============================] - 0s 79us/step - loss: 0.5812 - accuracy: 0.7109\n",
      "Epoch 38/150\n",
      "768/768 [==============================] - 0s 78us/step - loss: 0.5828 - accuracy: 0.7044\n",
      "Epoch 39/150\n",
      "768/768 [==============================] - 0s 81us/step - loss: 0.5823 - accuracy: 0.6966\n",
      "Epoch 40/150\n",
      "768/768 [==============================] - 0s 86us/step - loss: 0.5843 - accuracy: 0.6940\n",
      "Epoch 41/150\n",
      "768/768 [==============================] - 0s 87us/step - loss: 0.5778 - accuracy: 0.7070\n",
      "Epoch 42/150\n",
      "768/768 [==============================] - 0s 86us/step - loss: 0.5794 - accuracy: 0.7083\n",
      "Epoch 43/150\n",
      "768/768 [==============================] - 0s 82us/step - loss: 0.5782 - accuracy: 0.7018\n",
      "Epoch 44/150\n",
      "768/768 [==============================] - 0s 82us/step - loss: 0.5778 - accuracy: 0.7109\n",
      "Epoch 45/150\n",
      "768/768 [==============================] - 0s 78us/step - loss: 0.5778 - accuracy: 0.6992\n",
      "Epoch 46/150\n",
      "768/768 [==============================] - 0s 78us/step - loss: 0.5726 - accuracy: 0.7083\n",
      "Epoch 47/150\n",
      "768/768 [==============================] - 0s 82us/step - loss: 0.5792 - accuracy: 0.7122\n",
      "Epoch 48/150\n",
      "768/768 [==============================] - 0s 81us/step - loss: 0.5794 - accuracy: 0.7083\n",
      "Epoch 49/150\n",
      "768/768 [==============================] - 0s 79us/step - loss: 0.5765 - accuracy: 0.7109\n",
      "Epoch 50/150\n",
      "768/768 [==============================] - 0s 81us/step - loss: 0.5723 - accuracy: 0.7279\n",
      "Epoch 51/150\n",
      "768/768 [==============================] - 0s 79us/step - loss: 0.5754 - accuracy: 0.7031\n",
      "Epoch 52/150\n",
      "768/768 [==============================] - 0s 83us/step - loss: 0.5705 - accuracy: 0.7109\n",
      "Epoch 53/150\n",
      "768/768 [==============================] - 0s 83us/step - loss: 0.5737 - accuracy: 0.7109\n",
      "Epoch 54/150\n",
      "768/768 [==============================] - 0s 82us/step - loss: 0.5719 - accuracy: 0.7161\n",
      "Epoch 55/150\n",
      "768/768 [==============================] - 0s 78us/step - loss: 0.5679 - accuracy: 0.7240\n",
      "Epoch 56/150\n",
      "768/768 [==============================] - 0s 78us/step - loss: 0.5672 - accuracy: 0.7148\n",
      "Epoch 57/150\n",
      "768/768 [==============================] - 0s 77us/step - loss: 0.5663 - accuracy: 0.7135\n",
      "Epoch 58/150\n",
      "768/768 [==============================] - 0s 78us/step - loss: 0.5740 - accuracy: 0.7135\n",
      "Epoch 59/150\n",
      "768/768 [==============================] - 0s 79us/step - loss: 0.5663 - accuracy: 0.7031\n",
      "Epoch 60/150\n",
      "768/768 [==============================] - 0s 75us/step - loss: 0.5697 - accuracy: 0.7148\n",
      "Epoch 61/150\n",
      "768/768 [==============================] - 0s 78us/step - loss: 0.5702 - accuracy: 0.7135\n",
      "Epoch 62/150\n",
      "768/768 [==============================] - 0s 82us/step - loss: 0.5600 - accuracy: 0.7201\n",
      "Epoch 63/150\n",
      "768/768 [==============================] - 0s 86us/step - loss: 0.5651 - accuracy: 0.7148\n",
      "Epoch 64/150\n",
      "768/768 [==============================] - 0s 86us/step - loss: 0.5598 - accuracy: 0.7174\n",
      "Epoch 65/150\n",
      "768/768 [==============================] - 0s 86us/step - loss: 0.5613 - accuracy: 0.7109\n",
      "Epoch 66/150\n",
      "768/768 [==============================] - 0s 82us/step - loss: 0.5611 - accuracy: 0.7240\n",
      "Epoch 67/150\n",
      "768/768 [==============================] - 0s 79us/step - loss: 0.5653 - accuracy: 0.7109\n",
      "Epoch 68/150\n",
      "768/768 [==============================] - 0s 78us/step - loss: 0.5547 - accuracy: 0.7188\n",
      "Epoch 69/150\n",
      "768/768 [==============================] - 0s 78us/step - loss: 0.5609 - accuracy: 0.7096\n",
      "Epoch 70/150\n",
      "768/768 [==============================] - 0s 75us/step - loss: 0.5600 - accuracy: 0.7188\n",
      "Epoch 71/150\n",
      "768/768 [==============================] - 0s 79us/step - loss: 0.5502 - accuracy: 0.7109\n",
      "Epoch 72/150\n",
      "768/768 [==============================] - 0s 78us/step - loss: 0.5550 - accuracy: 0.7214\n",
      "Epoch 73/150\n",
      "768/768 [==============================] - 0s 77us/step - loss: 0.5526 - accuracy: 0.7240\n",
      "Epoch 74/150\n",
      "768/768 [==============================] - 0s 75us/step - loss: 0.5538 - accuracy: 0.7214\n",
      "Epoch 75/150\n",
      "768/768 [==============================] - 0s 74us/step - loss: 0.5511 - accuracy: 0.7161\n",
      "Epoch 76/150\n",
      "768/768 [==============================] - 0s 79us/step - loss: 0.5471 - accuracy: 0.7292\n",
      "Epoch 77/150\n",
      "768/768 [==============================] - 0s 78us/step - loss: 0.5452 - accuracy: 0.7214\n",
      "Epoch 78/150\n",
      "768/768 [==============================] - 0s 77us/step - loss: 0.5564 - accuracy: 0.7214\n",
      "Epoch 79/150\n",
      "768/768 [==============================] - 0s 79us/step - loss: 0.5456 - accuracy: 0.7292\n",
      "Epoch 80/150\n"
     ]
    },
    {
     "name": "stdout",
     "output_type": "stream",
     "text": [
      "768/768 [==============================] - 0s 81us/step - loss: 0.5487 - accuracy: 0.7240\n",
      "Epoch 81/150\n",
      "768/768 [==============================] - 0s 78us/step - loss: 0.5465 - accuracy: 0.7305\n",
      "Epoch 82/150\n",
      "768/768 [==============================] - 0s 75us/step - loss: 0.5434 - accuracy: 0.7188\n",
      "Epoch 83/150\n",
      "768/768 [==============================] - 0s 77us/step - loss: 0.5413 - accuracy: 0.7461\n",
      "Epoch 84/150\n",
      "768/768 [==============================] - 0s 74us/step - loss: 0.5423 - accuracy: 0.7305\n",
      "Epoch 85/150\n",
      "768/768 [==============================] - 0s 78us/step - loss: 0.5427 - accuracy: 0.7201\n",
      "Epoch 86/150\n",
      "768/768 [==============================] - 0s 75us/step - loss: 0.5464 - accuracy: 0.7305\n",
      "Epoch 87/150\n",
      "768/768 [==============================] - 0s 77us/step - loss: 0.5499 - accuracy: 0.7253\n",
      "Epoch 88/150\n",
      "768/768 [==============================] - 0s 79us/step - loss: 0.5364 - accuracy: 0.7201\n",
      "Epoch 89/150\n",
      "768/768 [==============================] - 0s 77us/step - loss: 0.5374 - accuracy: 0.7344\n",
      "Epoch 90/150\n",
      "768/768 [==============================] - 0s 77us/step - loss: 0.5375 - accuracy: 0.7292\n",
      "Epoch 91/150\n",
      "768/768 [==============================] - 0s 75us/step - loss: 0.5364 - accuracy: 0.7161\n",
      "Epoch 92/150\n",
      "768/768 [==============================] - 0s 77us/step - loss: 0.5334 - accuracy: 0.7344\n",
      "Epoch 93/150\n",
      "768/768 [==============================] - 0s 78us/step - loss: 0.5332 - accuracy: 0.7227\n",
      "Epoch 94/150\n",
      "768/768 [==============================] - 0s 78us/step - loss: 0.5346 - accuracy: 0.7227\n",
      "Epoch 95/150\n",
      "768/768 [==============================] - 0s 79us/step - loss: 0.5263 - accuracy: 0.7357\n",
      "Epoch 96/150\n",
      "768/768 [==============================] - 0s 79us/step - loss: 0.5369 - accuracy: 0.7370\n",
      "Epoch 97/150\n",
      "768/768 [==============================] - 0s 78us/step - loss: 0.5334 - accuracy: 0.7279\n",
      "Epoch 98/150\n",
      "768/768 [==============================] - 0s 81us/step - loss: 0.5327 - accuracy: 0.7370\n",
      "Epoch 99/150\n",
      "768/768 [==============================] - ETA: 0s - loss: 0.5227 - accuracy: 0.74 - 0s 79us/step - loss: 0.5286 - accuracy: 0.7409\n",
      "Epoch 100/150\n",
      "768/768 [==============================] - 0s 78us/step - loss: 0.5314 - accuracy: 0.7227\n",
      "Epoch 101/150\n",
      "768/768 [==============================] - 0s 77us/step - loss: 0.5261 - accuracy: 0.7487\n",
      "Epoch 102/150\n",
      "768/768 [==============================] - 0s 78us/step - loss: 0.5249 - accuracy: 0.7305\n",
      "Epoch 103/150\n",
      "768/768 [==============================] - 0s 77us/step - loss: 0.5224 - accuracy: 0.7409\n",
      "Epoch 104/150\n",
      "768/768 [==============================] - 0s 77us/step - loss: 0.5197 - accuracy: 0.7474\n",
      "Epoch 105/150\n",
      "768/768 [==============================] - 0s 77us/step - loss: 0.5213 - accuracy: 0.7500\n",
      "Epoch 106/150\n",
      "768/768 [==============================] - 0s 75us/step - loss: 0.5214 - accuracy: 0.7448\n",
      "Epoch 107/150\n",
      "768/768 [==============================] - 0s 78us/step - loss: 0.5219 - accuracy: 0.7513\n",
      "Epoch 108/150\n",
      "768/768 [==============================] - 0s 75us/step - loss: 0.5185 - accuracy: 0.7539\n",
      "Epoch 109/150\n",
      "768/768 [==============================] - 0s 77us/step - loss: 0.5176 - accuracy: 0.7435\n",
      "Epoch 110/150\n",
      "768/768 [==============================] - 0s 75us/step - loss: 0.5132 - accuracy: 0.7617\n",
      "Epoch 111/150\n",
      "768/768 [==============================] - 0s 78us/step - loss: 0.5270 - accuracy: 0.7435\n",
      "Epoch 112/150\n",
      "768/768 [==============================] - 0s 78us/step - loss: 0.5084 - accuracy: 0.7617\n",
      "Epoch 113/150\n",
      "768/768 [==============================] - 0s 75us/step - loss: 0.5111 - accuracy: 0.7526\n",
      "Epoch 114/150\n",
      "768/768 [==============================] - 0s 77us/step - loss: 0.5105 - accuracy: 0.7435\n",
      "Epoch 115/150\n",
      "768/768 [==============================] - 0s 77us/step - loss: 0.5071 - accuracy: 0.7669\n",
      "Epoch 116/150\n",
      "768/768 [==============================] - 0s 77us/step - loss: 0.5171 - accuracy: 0.7461\n",
      "Epoch 117/150\n",
      "768/768 [==============================] - 0s 77us/step - loss: 0.5093 - accuracy: 0.7487\n",
      "Epoch 118/150\n",
      "768/768 [==============================] - 0s 77us/step - loss: 0.5059 - accuracy: 0.7630\n",
      "Epoch 119/150\n",
      "768/768 [==============================] - 0s 77us/step - loss: 0.5063 - accuracy: 0.7656\n",
      "Epoch 120/150\n",
      "768/768 [==============================] - 0s 75us/step - loss: 0.5051 - accuracy: 0.7669\n",
      "Epoch 121/150\n",
      "768/768 [==============================] - 0s 77us/step - loss: 0.5074 - accuracy: 0.7565\n",
      "Epoch 122/150\n",
      "768/768 [==============================] - 0s 75us/step - loss: 0.5004 - accuracy: 0.7630\n",
      "Epoch 123/150\n",
      "768/768 [==============================] - 0s 77us/step - loss: 0.5039 - accuracy: 0.7578\n",
      "Epoch 124/150\n",
      "768/768 [==============================] - 0s 78us/step - loss: 0.4978 - accuracy: 0.7669\n",
      "Epoch 125/150\n",
      "768/768 [==============================] - 0s 75us/step - loss: 0.4976 - accuracy: 0.7656\n",
      "Epoch 126/150\n",
      "768/768 [==============================] - 0s 75us/step - loss: 0.5035 - accuracy: 0.7578\n",
      "Epoch 127/150\n",
      "768/768 [==============================] - 0s 77us/step - loss: 0.4991 - accuracy: 0.7669\n",
      "Epoch 128/150\n",
      "768/768 [==============================] - 0s 77us/step - loss: 0.4934 - accuracy: 0.7747\n",
      "Epoch 129/150\n",
      "768/768 [==============================] - 0s 77us/step - loss: 0.4898 - accuracy: 0.7721\n",
      "Epoch 130/150\n",
      "768/768 [==============================] - 0s 77us/step - loss: 0.4994 - accuracy: 0.7643\n",
      "Epoch 131/150\n",
      "768/768 [==============================] - 0s 78us/step - loss: 0.4946 - accuracy: 0.7656\n",
      "Epoch 132/150\n",
      "768/768 [==============================] - 0s 77us/step - loss: 0.4954 - accuracy: 0.7695\n",
      "Epoch 133/150\n",
      "768/768 [==============================] - 0s 77us/step - loss: 0.4937 - accuracy: 0.7669\n",
      "Epoch 134/150\n",
      "768/768 [==============================] - 0s 75us/step - loss: 0.4898 - accuracy: 0.7747\n",
      "Epoch 135/150\n",
      "768/768 [==============================] - 0s 77us/step - loss: 0.4923 - accuracy: 0.7747\n",
      "Epoch 136/150\n",
      "768/768 [==============================] - 0s 77us/step - loss: 0.4873 - accuracy: 0.7591\n",
      "Epoch 137/150\n",
      "768/768 [==============================] - 0s 75us/step - loss: 0.4892 - accuracy: 0.7682\n",
      "Epoch 138/150\n",
      "768/768 [==============================] - 0s 78us/step - loss: 0.4870 - accuracy: 0.7682\n",
      "Epoch 139/150\n",
      "768/768 [==============================] - 0s 75us/step - loss: 0.4862 - accuracy: 0.7734\n",
      "Epoch 140/150\n",
      "768/768 [==============================] - 0s 78us/step - loss: 0.4869 - accuracy: 0.7721\n",
      "Epoch 141/150\n",
      "768/768 [==============================] - 0s 75us/step - loss: 0.4951 - accuracy: 0.7786\n",
      "Epoch 142/150\n",
      "768/768 [==============================] - 0s 78us/step - loss: 0.4855 - accuracy: 0.7669\n",
      "Epoch 143/150\n",
      "768/768 [==============================] - 0s 161us/step - loss: 0.4827 - accuracy: 0.7734\n",
      "Epoch 144/150\n",
      "768/768 [==============================] - 0s 167us/step - loss: 0.4869 - accuracy: 0.7682\n",
      "Epoch 145/150\n",
      "768/768 [==============================] - 0s 173us/step - loss: 0.4925 - accuracy: 0.7656\n",
      "Epoch 146/150\n",
      "768/768 [==============================] - 0s 168us/step - loss: 0.4940 - accuracy: 0.7643\n",
      "Epoch 147/150\n",
      "768/768 [==============================] - 0s 173us/step - loss: 0.4879 - accuracy: 0.7682\n",
      "Epoch 148/150\n",
      "768/768 [==============================] - 0s 166us/step - loss: 0.4877 - accuracy: 0.7708\n",
      "Epoch 149/150\n",
      "768/768 [==============================] - 0s 166us/step - loss: 0.4855 - accuracy: 0.7799\n",
      "Epoch 150/150\n",
      "768/768 [==============================] - 0s 175us/step - loss: 0.4974 - accuracy: 0.7539\n"
     ]
    },
    {
     "data": {
      "text/plain": [
       "<keras.callbacks.callbacks.History at 0x294b5da0a88>"
      ]
     },
     "execution_count": 40,
     "metadata": {},
     "output_type": "execute_result"
    }
   ],
   "source": [
    "loaded_model.compile(loss='binary_crossentropy', optimizer='adam', metrics=['accuracy'])\n",
    "model.fit(x, y, epochs=150, batch_size=10)"
   ]
  },
  {
   "cell_type": "code",
   "execution_count": 41,
   "metadata": {},
   "outputs": [
    {
     "name": "stdout",
     "output_type": "stream",
     "text": [
      "accuracy: 77.99%\n"
     ]
    }
   ],
   "source": [
    "scores = model.evaluate(x, y, verbose=0)\n",
    "print(\"%s: %.2f%%\" % (model.metrics_names[1], scores[1]*100))"
   ]
  },
  {
   "cell_type": "code",
   "execution_count": 42,
   "metadata": {},
   "outputs": [
    {
     "name": "stdout",
     "output_type": "stream",
     "text": [
      "accuracy: 77.99%\n"
     ]
    }
   ],
   "source": [
    "print('%s: %.2f%%' % (loaded_model.metrics_names[1], scores[1]*100))"
   ]
  },
  {
   "cell_type": "code",
   "execution_count": null,
   "metadata": {},
   "outputs": [],
   "source": []
  }
 ],
 "metadata": {
  "kernelspec": {
   "display_name": "Python 3",
   "language": "python",
   "name": "python3"
  },
  "language_info": {
   "codemirror_mode": {
    "name": "ipython",
    "version": 3
   },
   "file_extension": ".py",
   "mimetype": "text/x-python",
   "name": "python",
   "nbconvert_exporter": "python",
   "pygments_lexer": "ipython3",
   "version": "3.7.4"
  }
 },
 "nbformat": 4,
 "nbformat_minor": 2
}
